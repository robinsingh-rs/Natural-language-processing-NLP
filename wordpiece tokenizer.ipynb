{
 "cells": [
  {
   "cell_type": "markdown",
   "metadata": {},
   "source": [
    "Word Piece tokenizer in python"
   ]
  },
  {
   "cell_type": "code",
   "execution_count": null,
   "metadata": {},
   "outputs": [],
   "source": [
    "import json\n",
    "import re"
   ]
  },
  {
   "cell_type": "code",
   "execution_count": null,
   "metadata": {},
   "outputs": [],
   "source": [
    "#tokenizer in python\n",
    "class WordpieceTokenizer:\n",
    "    UNKNOWN_TOKEN = \"[UNK]\"\n",
    "    MAX_INPUTCHARS_PER_WORD = 100\n",
    "\n",
    "    def __init__(self, vocab_path):\n",
    "        with open(vocab_path, 'r') as f:\n",
    "            self.vocab = json.load(f)\n",
    "            self.vocab = self.vocab['model']['vocab']\n",
    "\n",
    "    def tokenize(self, text):\n",
    "        if text is None:\n",
    "            raise Exception('The input String is None.')\n",
    "\n",
    "        output_tokens = []\n",
    "        words=re.findall(r'\\b\\w+\\b|\\S',text)\n",
    "        for token in words:\n",
    "            if len(token) > self.MAX_INPUTCHARS_PER_WORD:\n",
    "                output_tokens.append(self.UNKNOWN_TOKEN)\n",
    "                continue\n",
    "\n",
    "            is_bad = False\n",
    "            start = 0\n",
    "            sub_tokens = []\n",
    "\n",
    "            while start < len(token):\n",
    "                cur_substr = \"\"\n",
    "                end = len(token)\n",
    "\n",
    "                while start < end:\n",
    "                    substr = token[start:end] if start == 0 else \"##\" + token[start:end]\n",
    "                    if substr in self.vocab:\n",
    "                        cur_substr = substr\n",
    "                        break\n",
    "                    end -= 1\n",
    "\n",
    "                if cur_substr==\"\":\n",
    "                    is_bad = True\n",
    "                    break\n",
    "\n",
    "                sub_tokens.append(cur_substr)\n",
    "                start = end\n",
    "\n",
    "            if is_bad:\n",
    "#                 output_tokens+=sub_tokens\n",
    "                output_tokens.append(self.UNKNOWN_TOKEN)\n",
    "            else:\n",
    "                output_tokens += sub_tokens\n",
    "\n",
    "        return output_tokens"
   ]
  }
 ],
 "metadata": {
  "kernelspec": {
   "display_name": "MLDLEnvir",
   "language": "python",
   "name": "python3"
  },
  "language_info": {
   "name": "python",
   "version": "3.9.6"
  }
 },
 "nbformat": 4,
 "nbformat_minor": 2
}
